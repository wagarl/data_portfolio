{
 "cells": [
  {
   "cell_type": "code",
   "execution_count": null,
   "metadata": {},
   "outputs": [],
   "source": [
    "import pandas as pd\n",
    "import matplotlib.pyplot as plt\n",
    "from scipy import stats\n",
    "import numpy as np"
   ]
  },
  {
   "cell_type": "code",
   "execution_count": null,
   "metadata": {},
   "outputs": [],
   "source": [
    "pd.set_option('display.max_rows', None)\n",
    "pd.set_option('display.max_columns', None)\n",
    "pd.set_option('display.float_format', lambda x: '%.2f' % x)\n",
    "\n",
    "np.set_printoptions(threshold=np.inf)"
   ]
  },
  {
   "cell_type": "code",
   "execution_count": 212,
   "metadata": {},
   "outputs": [],
   "source": [
    "address = pd.read_csv('/Users/lucaswagar/Documents/Datasets/owner_address.csv', dtype = {'folio' : str} )\n",
    "sales = pd.read_csv('/Users/lucaswagar/Documents/Datasets/sales.csv')"
   ]
  },
  {
   "cell_type": "code",
   "execution_count": 213,
   "metadata": {},
   "outputs": [
    {
     "data": {
      "text/html": [
       "<div>\n",
       "<style scoped>\n",
       "    .dataframe tbody tr th:only-of-type {\n",
       "        vertical-align: middle;\n",
       "    }\n",
       "\n",
       "    .dataframe tbody tr th {\n",
       "        vertical-align: top;\n",
       "    }\n",
       "\n",
       "    .dataframe thead th {\n",
       "        text-align: right;\n",
       "    }\n",
       "</style>\n",
       "<table border=\"1\" class=\"dataframe\">\n",
       "  <thead>\n",
       "    <tr style=\"text-align: right;\">\n",
       "      <th></th>\n",
       "      <th>strap</th>\n",
       "      <th>deedNum</th>\n",
       "      <th>Tdate</th>\n",
       "      <th>sales_cd</th>\n",
       "      <th>deed_type</th>\n",
       "      <th>price</th>\n",
       "      <th>status_cd</th>\n",
       "    </tr>\n",
       "  </thead>\n",
       "  <tbody>\n",
       "    <tr>\n",
       "      <th>0</th>\n",
       "      <td>M2000001</td>\n",
       "      <td>7P193092</td>\n",
       "      <td>9/13/1999 12:00:00 AM</td>\n",
       "      <td>Q</td>\n",
       "      <td>TN</td>\n",
       "      <td>66000.00</td>\n",
       "      <td>A</td>\n",
       "    </tr>\n",
       "    <tr>\n",
       "      <th>1</th>\n",
       "      <td>M2000001</td>\n",
       "      <td>7P544958</td>\n",
       "      <td>9/13/1999 12:00:00 AM</td>\n",
       "      <td>U</td>\n",
       "      <td>NC</td>\n",
       "      <td>0.00</td>\n",
       "      <td>A</td>\n",
       "    </tr>\n",
       "    <tr>\n",
       "      <th>2</th>\n",
       "      <td>M2000001</td>\n",
       "      <td>3616937</td>\n",
       "      <td>9/27/2017 12:00:00 AM</td>\n",
       "      <td>Q</td>\n",
       "      <td>VT</td>\n",
       "      <td>95000.00</td>\n",
       "      <td>A</td>\n",
       "    </tr>\n",
       "    <tr>\n",
       "      <th>3</th>\n",
       "      <td>M2000002</td>\n",
       "      <td>7P197496</td>\n",
       "      <td>10/13/1999 12:00:00 AM</td>\n",
       "      <td>Q</td>\n",
       "      <td>TN</td>\n",
       "      <td>50900.00</td>\n",
       "      <td>A</td>\n",
       "    </tr>\n",
       "    <tr>\n",
       "      <th>4</th>\n",
       "      <td>M2000002</td>\n",
       "      <td>3157017</td>\n",
       "      <td>1/15/2010 12:00:00 AM</td>\n",
       "      <td>Q</td>\n",
       "      <td>VT</td>\n",
       "      <td>30000.00</td>\n",
       "      <td>A</td>\n",
       "    </tr>\n",
       "  </tbody>\n",
       "</table>\n",
       "</div>"
      ],
      "text/plain": [
       "      strap   deedNum                   Tdate sales_cd deed_type    price  \\\n",
       "0  M2000001  7P193092   9/13/1999 12:00:00 AM        Q        TN 66000.00   \n",
       "1  M2000001  7P544958   9/13/1999 12:00:00 AM        U        NC     0.00   \n",
       "2  M2000001   3616937   9/27/2017 12:00:00 AM        Q        VT 95000.00   \n",
       "3  M2000002  7P197496  10/13/1999 12:00:00 AM        Q        TN 50900.00   \n",
       "4  M2000002   3157017   1/15/2010 12:00:00 AM        Q        VT 30000.00   \n",
       "\n",
       "  status_cd  \n",
       "0        A   \n",
       "1        A   \n",
       "2        A   \n",
       "3        A   \n",
       "4        A   "
      ]
     },
     "execution_count": 213,
     "metadata": {},
     "output_type": "execute_result"
    }
   ],
   "source": [
    "sales.head()"
   ]
  },
  {
   "cell_type": "code",
   "execution_count": 214,
   "metadata": {},
   "outputs": [
    {
     "data": {
      "text/html": [
       "<div>\n",
       "<style scoped>\n",
       "    .dataframe tbody tr th:only-of-type {\n",
       "        vertical-align: middle;\n",
       "    }\n",
       "\n",
       "    .dataframe tbody tr th {\n",
       "        vertical-align: top;\n",
       "    }\n",
       "\n",
       "    .dataframe thead th {\n",
       "        text-align: right;\n",
       "    }\n",
       "</style>\n",
       "<table border=\"1\" class=\"dataframe\">\n",
       "  <thead>\n",
       "    <tr style=\"text-align: right;\">\n",
       "      <th></th>\n",
       "      <th>CreatedDate</th>\n",
       "      <th>strap</th>\n",
       "      <th>folio</th>\n",
       "      <th>status_cd</th>\n",
       "      <th>bld_num</th>\n",
       "      <th>str_num</th>\n",
       "      <th>str_pfx</th>\n",
       "      <th>str</th>\n",
       "      <th>str_sfx</th>\n",
       "      <th>str_unit</th>\n",
       "      <th>city</th>\n",
       "      <th>sub_code</th>\n",
       "      <th>sub_dscr</th>\n",
       "      <th>section</th>\n",
       "      <th>township</th>\n",
       "      <th>range</th>\n",
       "      <th>block</th>\n",
       "      <th>lot</th>\n",
       "      <th>owner_name</th>\n",
       "      <th>mail_to</th>\n",
       "      <th>mailingAddr1</th>\n",
       "      <th>mailingAddr2</th>\n",
       "      <th>mailingCity</th>\n",
       "      <th>mailingState</th>\n",
       "      <th>mailingZip</th>\n",
       "      <th>mailingCountry</th>\n",
       "      <th>role_cd</th>\n",
       "      <th>pct_own</th>\n",
       "      <th>taxArea</th>\n",
       "      <th>nh</th>\n",
       "      <th>mill_levy</th>\n",
       "      <th>legalDscr</th>\n",
       "      <th>waterFee</th>\n",
       "      <th>account_type</th>\n",
       "    </tr>\n",
       "  </thead>\n",
       "  <tbody>\n",
       "    <tr>\n",
       "      <th>0</th>\n",
       "      <td>2/11/2025 4:01:03 AM</td>\n",
       "      <td>M2000001</td>\n",
       "      <td>146318113001</td>\n",
       "      <td>A</td>\n",
       "      <td>0.00</td>\n",
       "      <td>4500.00</td>\n",
       "      <td>NaN</td>\n",
       "      <td>19TH</td>\n",
       "      <td>ST</td>\n",
       "      <td>119</td>\n",
       "      <td>BOULDER</td>\n",
       "      <td>1841.00</td>\n",
       "      <td>COUNTRYSIDE VILLAGE BOULDER - MHP BOV</td>\n",
       "      <td>18.00</td>\n",
       "      <td>1N</td>\n",
       "      <td>70.00</td>\n",
       "      <td></td>\n",
       "      <td></td>\n",
       "      <td>BRETADO-SEGOVIA NORATO SERGIO</td>\n",
       "      <td>NaN</td>\n",
       "      <td>4500 19TH ST 119</td>\n",
       "      <td>NaN</td>\n",
       "      <td>BOULDER</td>\n",
       "      <td>CO</td>\n",
       "      <td>80304</td>\n",
       "      <td>NaN</td>\n",
       "      <td>P</td>\n",
       "      <td>1.00</td>\n",
       "      <td>10</td>\n",
       "      <td>122.00</td>\n",
       "      <td>87.88</td>\n",
       "      <td>119 COUNTRYSIDE VILLAGE BO MHP 99 LEX 60X28  2...</td>\n",
       "      <td>NaN</td>\n",
       "      <td>MANUFACTURED HOME</td>\n",
       "    </tr>\n",
       "    <tr>\n",
       "      <th>1</th>\n",
       "      <td>2/11/2025 4:01:03 AM</td>\n",
       "      <td>M2000002</td>\n",
       "      <td>146318113001</td>\n",
       "      <td>A</td>\n",
       "      <td>0.00</td>\n",
       "      <td>4500.00</td>\n",
       "      <td>NaN</td>\n",
       "      <td>19TH</td>\n",
       "      <td>ST</td>\n",
       "      <td>113</td>\n",
       "      <td>BOULDER</td>\n",
       "      <td>1841.00</td>\n",
       "      <td>COUNTRYSIDE VILLAGE BOULDER - MHP BOV</td>\n",
       "      <td>18.00</td>\n",
       "      <td>1N</td>\n",
       "      <td>70.00</td>\n",
       "      <td></td>\n",
       "      <td></td>\n",
       "      <td>LASTERI CLAUDIA KELLEY &amp; NOEMI LASTIRI LOPEZ</td>\n",
       "      <td>NaN</td>\n",
       "      <td>4500 19TH ST 113</td>\n",
       "      <td>NaN</td>\n",
       "      <td>BOULDER</td>\n",
       "      <td>CO</td>\n",
       "      <td>80304</td>\n",
       "      <td>NaN</td>\n",
       "      <td>P</td>\n",
       "      <td>1.00</td>\n",
       "      <td>10</td>\n",
       "      <td>122.00</td>\n",
       "      <td>87.88</td>\n",
       "      <td>113 COUNTRYSIDE VILLAGE BO MHP 98 PRE 80X16 GD...</td>\n",
       "      <td>NaN</td>\n",
       "      <td>MANUFACTURED HOME</td>\n",
       "    </tr>\n",
       "    <tr>\n",
       "      <th>2</th>\n",
       "      <td>2/11/2025 4:01:03 AM</td>\n",
       "      <td>M2000003</td>\n",
       "      <td>146321300001</td>\n",
       "      <td>A</td>\n",
       "      <td>0.00</td>\n",
       "      <td>5000.00</td>\n",
       "      <td>NaN</td>\n",
       "      <td>BUTTE</td>\n",
       "      <td>ST</td>\n",
       "      <td>185</td>\n",
       "      <td>BOULDER</td>\n",
       "      <td>8464.00</td>\n",
       "      <td>VISTA VILLAGE - MHP BOV</td>\n",
       "      <td>21.00</td>\n",
       "      <td>1N</td>\n",
       "      <td>70.00</td>\n",
       "      <td></td>\n",
       "      <td></td>\n",
       "      <td>KRAUSE CLARINDA L</td>\n",
       "      <td>NaN</td>\n",
       "      <td>5000 BUTTE ST 185</td>\n",
       "      <td>NaN</td>\n",
       "      <td>BOULDER</td>\n",
       "      <td>CO</td>\n",
       "      <td>80301</td>\n",
       "      <td>NaN</td>\n",
       "      <td>P</td>\n",
       "      <td>1.00</td>\n",
       "      <td>10</td>\n",
       "      <td>135.00</td>\n",
       "      <td>87.88</td>\n",
       "      <td>185 VISTA VILLAGE MHP 99 CHA 58X16 4990  22993...</td>\n",
       "      <td>NaN</td>\n",
       "      <td>MANUFACTURED HOME</td>\n",
       "    </tr>\n",
       "    <tr>\n",
       "      <th>3</th>\n",
       "      <td>2/11/2025 4:01:03 AM</td>\n",
       "      <td>M2000004</td>\n",
       "      <td>146318113001</td>\n",
       "      <td>A</td>\n",
       "      <td>0.00</td>\n",
       "      <td>4500.00</td>\n",
       "      <td>NaN</td>\n",
       "      <td>19TH</td>\n",
       "      <td>ST</td>\n",
       "      <td>257</td>\n",
       "      <td>BOULDER</td>\n",
       "      <td>1841.00</td>\n",
       "      <td>COUNTRYSIDE VILLAGE BOULDER - MHP BOV</td>\n",
       "      <td>18.00</td>\n",
       "      <td>1N</td>\n",
       "      <td>70.00</td>\n",
       "      <td></td>\n",
       "      <td></td>\n",
       "      <td>COUNTRYSIDE VILLAGE ASSOCS/BOULDER LTD PARTNER...</td>\n",
       "      <td>C/O UNIPROP INC</td>\n",
       "      <td>280 DAINES ST SUITE 300</td>\n",
       "      <td>NaN</td>\n",
       "      <td>BIRMINGHAM</td>\n",
       "      <td>MI</td>\n",
       "      <td>48009-6250</td>\n",
       "      <td>NaN</td>\n",
       "      <td>P</td>\n",
       "      <td>1.00</td>\n",
       "      <td>10</td>\n",
       "      <td>122.00</td>\n",
       "      <td>87.88</td>\n",
       "      <td>257 COUNTRYSIDE VILLAGE BO MHP 99 SKYLINE 44X2...</td>\n",
       "      <td>NaN</td>\n",
       "      <td>MANUFACTURED HOME</td>\n",
       "    </tr>\n",
       "    <tr>\n",
       "      <th>4</th>\n",
       "      <td>2/11/2025 4:01:03 AM</td>\n",
       "      <td>M2000007</td>\n",
       "      <td>146318113001</td>\n",
       "      <td>A</td>\n",
       "      <td>0.00</td>\n",
       "      <td>4500.00</td>\n",
       "      <td>NaN</td>\n",
       "      <td>19TH</td>\n",
       "      <td>ST</td>\n",
       "      <td>214</td>\n",
       "      <td>BOULDER</td>\n",
       "      <td>1841.00</td>\n",
       "      <td>COUNTRYSIDE VILLAGE BOULDER - MHP BOV</td>\n",
       "      <td>18.00</td>\n",
       "      <td>1N</td>\n",
       "      <td>70.00</td>\n",
       "      <td></td>\n",
       "      <td></td>\n",
       "      <td>LOPEZ ABRAHAM &amp; ISABEL ARGUMEDO</td>\n",
       "      <td>NaN</td>\n",
       "      <td>4500 19TH ST  214</td>\n",
       "      <td>NaN</td>\n",
       "      <td>BOULDER</td>\n",
       "      <td>CO</td>\n",
       "      <td>80304</td>\n",
       "      <td>NaN</td>\n",
       "      <td>P</td>\n",
       "      <td>1.00</td>\n",
       "      <td>10</td>\n",
       "      <td>122.00</td>\n",
       "      <td>87.88</td>\n",
       "      <td>214 COUNTRYSIDE VILLAGE BO MHP AKA BOULDER MEA...</td>\n",
       "      <td>NaN</td>\n",
       "      <td>MANUFACTURED HOME</td>\n",
       "    </tr>\n",
       "  </tbody>\n",
       "</table>\n",
       "</div>"
      ],
      "text/plain": [
       "            CreatedDate     strap         folio status_cd  bld_num  str_num  \\\n",
       "0  2/11/2025 4:01:03 AM  M2000001  146318113001        A      0.00  4500.00   \n",
       "1  2/11/2025 4:01:03 AM  M2000002  146318113001        A      0.00  4500.00   \n",
       "2  2/11/2025 4:01:03 AM  M2000003  146321300001        A      0.00  5000.00   \n",
       "3  2/11/2025 4:01:03 AM  M2000004  146318113001        A      0.00  4500.00   \n",
       "4  2/11/2025 4:01:03 AM  M2000007  146318113001        A      0.00  4500.00   \n",
       "\n",
       "  str_pfx    str str_sfx str_unit     city  sub_code  \\\n",
       "0     NaN   19TH      ST      119  BOULDER   1841.00   \n",
       "1     NaN   19TH      ST      113  BOULDER   1841.00   \n",
       "2     NaN  BUTTE      ST      185  BOULDER   8464.00   \n",
       "3     NaN   19TH      ST      257  BOULDER   1841.00   \n",
       "4     NaN   19TH      ST      214  BOULDER   1841.00   \n",
       "\n",
       "                                sub_dscr  section township  range   block  \\\n",
       "0  COUNTRYSIDE VILLAGE BOULDER - MHP BOV    18.00       1N  70.00           \n",
       "1  COUNTRYSIDE VILLAGE BOULDER - MHP BOV    18.00       1N  70.00           \n",
       "2                VISTA VILLAGE - MHP BOV    21.00       1N  70.00           \n",
       "3  COUNTRYSIDE VILLAGE BOULDER - MHP BOV    18.00       1N  70.00           \n",
       "4  COUNTRYSIDE VILLAGE BOULDER - MHP BOV    18.00       1N  70.00           \n",
       "\n",
       "      lot                                         owner_name          mail_to  \\\n",
       "0                              BRETADO-SEGOVIA NORATO SERGIO              NaN   \n",
       "1               LASTERI CLAUDIA KELLEY & NOEMI LASTIRI LOPEZ              NaN   \n",
       "2                                          KRAUSE CLARINDA L              NaN   \n",
       "3          COUNTRYSIDE VILLAGE ASSOCS/BOULDER LTD PARTNER...  C/O UNIPROP INC   \n",
       "4                            LOPEZ ABRAHAM & ISABEL ARGUMEDO              NaN   \n",
       "\n",
       "              mailingAddr1 mailingAddr2 mailingCity mailingState  mailingZip  \\\n",
       "0         4500 19TH ST 119          NaN     BOULDER           CO       80304   \n",
       "1         4500 19TH ST 113          NaN     BOULDER           CO       80304   \n",
       "2        5000 BUTTE ST 185          NaN     BOULDER           CO       80301   \n",
       "3  280 DAINES ST SUITE 300          NaN  BIRMINGHAM           MI  48009-6250   \n",
       "4        4500 19TH ST  214          NaN     BOULDER           CO       80304   \n",
       "\n",
       "  mailingCountry role_cd  pct_own  taxArea     nh  mill_levy  \\\n",
       "0            NaN       P     1.00       10 122.00      87.88   \n",
       "1            NaN       P     1.00       10 122.00      87.88   \n",
       "2            NaN       P     1.00       10 135.00      87.88   \n",
       "3            NaN       P     1.00       10 122.00      87.88   \n",
       "4            NaN       P     1.00       10 122.00      87.88   \n",
       "\n",
       "                                           legalDscr  waterFee  \\\n",
       "0  119 COUNTRYSIDE VILLAGE BO MHP 99 LEX 60X28  2...       NaN   \n",
       "1  113 COUNTRYSIDE VILLAGE BO MHP 98 PRE 80X16 GD...       NaN   \n",
       "2  185 VISTA VILLAGE MHP 99 CHA 58X16 4990  22993...       NaN   \n",
       "3  257 COUNTRYSIDE VILLAGE BO MHP 99 SKYLINE 44X2...       NaN   \n",
       "4  214 COUNTRYSIDE VILLAGE BO MHP AKA BOULDER MEA...       NaN   \n",
       "\n",
       "        account_type  \n",
       "0  MANUFACTURED HOME  \n",
       "1  MANUFACTURED HOME  \n",
       "2  MANUFACTURED HOME  \n",
       "3  MANUFACTURED HOME  \n",
       "4  MANUFACTURED HOME  "
      ]
     },
     "execution_count": 214,
     "metadata": {},
     "output_type": "execute_result"
    }
   ],
   "source": [
    "address.head()"
   ]
  },
  {
   "cell_type": "code",
   "execution_count": 215,
   "metadata": {},
   "outputs": [
    {
     "name": "stdout",
     "output_type": "stream",
     "text": [
      "<class 'pandas.core.frame.DataFrame'>\n",
      "RangeIndex: 728040 entries, 0 to 728039\n",
      "Data columns (total 7 columns):\n",
      " #   Column     Non-Null Count   Dtype  \n",
      "---  ------     --------------   -----  \n",
      " 0   strap      728040 non-null  object \n",
      " 1   deedNum    727886 non-null  object \n",
      " 2   Tdate      728040 non-null  object \n",
      " 3   sales_cd   728040 non-null  object \n",
      " 4   deed_type  728039 non-null  object \n",
      " 5   price      718054 non-null  float64\n",
      " 6   status_cd  728040 non-null  object \n",
      "dtypes: float64(1), object(6)\n",
      "memory usage: 38.9+ MB\n"
     ]
    }
   ],
   "source": [
    "sales.info()"
   ]
  },
  {
   "cell_type": "code",
   "execution_count": 216,
   "metadata": {},
   "outputs": [
    {
     "name": "stdout",
     "output_type": "stream",
     "text": [
      "<class 'pandas.core.frame.DataFrame'>\n",
      "RangeIndex: 151329 entries, 0 to 151328\n",
      "Data columns (total 34 columns):\n",
      " #   Column          Non-Null Count   Dtype  \n",
      "---  ------          --------------   -----  \n",
      " 0   CreatedDate     151329 non-null  object \n",
      " 1   strap           151329 non-null  object \n",
      " 2   folio           151263 non-null  object \n",
      " 3   status_cd       151329 non-null  object \n",
      " 4   bld_num         151246 non-null  float64\n",
      " 5   str_num         151246 non-null  float64\n",
      " 6   str_pfx         15451 non-null   object \n",
      " 7   str             151238 non-null  object \n",
      " 8   str_sfx         146444 non-null  object \n",
      " 9   str_unit        22875 non-null   object \n",
      " 10  city            151246 non-null  object \n",
      " 11  sub_code        151328 non-null  float64\n",
      " 12  sub_dscr        151328 non-null  object \n",
      " 13  section         151203 non-null  float64\n",
      " 14  township        151203 non-null  object \n",
      " 15  range           151203 non-null  float64\n",
      " 16  block           151329 non-null  object \n",
      " 17  lot             151329 non-null  object \n",
      " 18  owner_name      151329 non-null  object \n",
      " 19  mail_to         7952 non-null    object \n",
      " 20  mailingAddr1    150919 non-null  object \n",
      " 21  mailingAddr2    2177 non-null    object \n",
      " 22  mailingCity     151133 non-null  object \n",
      " 23  mailingState    151307 non-null  object \n",
      " 24  mailingZip      151268 non-null  object \n",
      " 25  mailingCountry  99 non-null      object \n",
      " 26  role_cd         151326 non-null  object \n",
      " 27  pct_own         151326 non-null  float64\n",
      " 28  taxArea         151329 non-null  int64  \n",
      " 29  nh              151329 non-null  float64\n",
      " 30  mill_levy       151329 non-null  float64\n",
      " 31  legalDscr       151329 non-null  object \n",
      " 32  waterFee        220 non-null     float64\n",
      " 33  account_type    151329 non-null  object \n",
      "dtypes: float64(9), int64(1), object(24)\n",
      "memory usage: 39.3+ MB\n"
     ]
    }
   ],
   "source": [
    "address.info()"
   ]
  },
  {
   "cell_type": "code",
   "execution_count": 217,
   "metadata": {},
   "outputs": [
    {
     "name": "stdout",
     "output_type": "stream",
     "text": [
      "<class 'pandas.core.frame.DataFrame'>\n",
      "RangeIndex: 821765 entries, 0 to 821764\n",
      "Data columns (total 40 columns):\n",
      " #   Column          Non-Null Count   Dtype  \n",
      "---  ------          --------------   -----  \n",
      " 0   strap           821765 non-null  object \n",
      " 1   deedNum         821486 non-null  object \n",
      " 2   Tdate           821765 non-null  object \n",
      " 3   sales_cd        821765 non-null  object \n",
      " 4   deed_type       821764 non-null  object \n",
      " 5   price           810811 non-null  float64\n",
      " 6   status_cd_x     821765 non-null  object \n",
      " 7   CreatedDate     821197 non-null  object \n",
      " 8   folio           821197 non-null  object \n",
      " 9   status_cd_y     821197 non-null  object \n",
      " 10  bld_num         821196 non-null  float64\n",
      " 11  str_num         821196 non-null  float64\n",
      " 12  str_pfx         81534 non-null   object \n",
      " 13  str             821196 non-null  object \n",
      " 14  str_sfx         799834 non-null  object \n",
      " 15  str_unit        132614 non-null  object \n",
      " 16  city            821196 non-null  object \n",
      " 17  sub_code        821196 non-null  float64\n",
      " 18  sub_dscr        821196 non-null  object \n",
      " 19  section         821188 non-null  float64\n",
      " 20  township        821188 non-null  object \n",
      " 21  range           821188 non-null  float64\n",
      " 22  block           821197 non-null  object \n",
      " 23  lot             821197 non-null  object \n",
      " 24  owner_name      821197 non-null  object \n",
      " 25  mail_to         33315 non-null   object \n",
      " 26  mailingAddr1    820724 non-null  object \n",
      " 27  mailingAddr2    8220 non-null    object \n",
      " 28  mailingCity     820742 non-null  object \n",
      " 29  mailingState    821086 non-null  object \n",
      " 30  mailingZip      821007 non-null  object \n",
      " 31  mailingCountry  548 non-null     object \n",
      " 32  role_cd         821179 non-null  object \n",
      " 33  pct_own         821179 non-null  float64\n",
      " 34  taxArea         821197 non-null  float64\n",
      " 35  nh              821197 non-null  float64\n",
      " 36  mill_levy       821197 non-null  float64\n",
      " 37  legalDscr       821197 non-null  object \n",
      " 38  waterFee        1222 non-null    float64\n",
      " 39  account_type    821197 non-null  object \n",
      "dtypes: float64(11), object(29)\n",
      "memory usage: 250.8+ MB\n"
     ]
    }
   ],
   "source": [
    "sales_merge = sales.merge(address, how = 'left', on = 'strap')\n",
    "sales_merge.info()"
   ]
  },
  {
   "cell_type": "code",
   "execution_count": 218,
   "metadata": {},
   "outputs": [
    {
     "data": {
      "text/plain": [
       "array(['BOULDER', 'LOUISVILLE', 'LAFAYETTE', 'LONGMONT', 'UNINCORPORATED',\n",
       "       'NEDERLAND', 'BOULDER ', 'LYONS', 'ERIE', 'JAMESTOWN', 'SUPERIOR',\n",
       "       'WARD'], dtype=object)"
      ]
     },
     "execution_count": 218,
     "metadata": {},
     "output_type": "execute_result"
    }
   ],
   "source": [
    "sales_filter = sales_merge[['strap','Tdate','price','city','account_type']]\n",
    "sales_filter = sales_filter[sales_filter['price'] != 0]\n",
    "sales_filter = sales_filter.loc[sales_filter['account_type'].isin(['MANUFACTURED HOME', 'RESIDENTIAL CONDO', 'RESIDENTIAL', 'APARTMENT'])]\n",
    "sales_filter['city'].unique()"
   ]
  },
  {
   "cell_type": "code",
   "execution_count": 219,
   "metadata": {},
   "outputs": [
    {
     "data": {
      "text/plain": [
       "array(['BOULDER', 'LOUISVILLE', 'LAFAYETTE', 'LONGMONT', 'UNINCORPORATED',\n",
       "       'NEDERLAND', 'LYONS', 'ERIE', 'JAMESTOWN', 'SUPERIOR', 'WARD'],\n",
       "      dtype=object)"
      ]
     },
     "execution_count": 219,
     "metadata": {},
     "output_type": "execute_result"
    }
   ],
   "source": [
    "sales_filter.loc[sales_filter['city'] == 'BOULDER ', 'city'] = 'BOULDER'\n",
    "sales_filter['city'].unique()"
   ]
  },
  {
   "cell_type": "code",
   "execution_count": 220,
   "metadata": {},
   "outputs": [
    {
     "name": "stdout",
     "output_type": "stream",
     "text": [
      "<class 'pandas.core.frame.DataFrame'>\n",
      "Index: 386305 entries, 0 to 821764\n",
      "Data columns (total 5 columns):\n",
      " #   Column        Non-Null Count   Dtype  \n",
      "---  ------        --------------   -----  \n",
      " 0   strap         386305 non-null  object \n",
      " 1   Tdate         386305 non-null  object \n",
      " 2   price         386305 non-null  float64\n",
      " 3   city          386305 non-null  object \n",
      " 4   account_type  386305 non-null  object \n",
      "dtypes: float64(1), object(4)\n",
      "memory usage: 17.7+ MB\n"
     ]
    }
   ],
   "source": [
    "sales_clean = sales_filter.dropna().copy()\n",
    "sales_clean.info()"
   ]
  },
  {
   "cell_type": "code",
   "execution_count": 221,
   "metadata": {},
   "outputs": [
    {
     "name": "stderr",
     "output_type": "stream",
     "text": [
      "/var/folders/_3/wf7zkn0x6pv52x99wzzkv_xh0000gn/T/ipykernel_10949/1797461451.py:1: UserWarning: Could not infer format, so each element will be parsed individually, falling back to `dateutil`. To ensure parsing is consistent and as-expected, please specify a format.\n",
      "  sales_clean.loc[:, 'Tdate'] = pd.to_datetime(sales_clean['Tdate'])\n"
     ]
    },
    {
     "name": "stdout",
     "output_type": "stream",
     "text": [
      "<class 'pandas.core.frame.DataFrame'>\n",
      "Index: 386305 entries, 0 to 821764\n",
      "Data columns (total 7 columns):\n",
      " #   Column        Non-Null Count   Dtype  \n",
      "---  ------        --------------   -----  \n",
      " 0   strap         386305 non-null  object \n",
      " 1   Tdate         386305 non-null  object \n",
      " 2   price         386305 non-null  float64\n",
      " 3   city          386305 non-null  object \n",
      " 4   account_type  386305 non-null  object \n",
      " 5   sale_year     386305 non-null  int32  \n",
      " 6   sale_month    386305 non-null  int32  \n",
      "dtypes: float64(1), int32(2), object(4)\n",
      "memory usage: 20.6+ MB\n"
     ]
    }
   ],
   "source": [
    "sales_clean.loc[:, 'Tdate'] = pd.to_datetime(sales_clean['Tdate'])\n",
    "sales_clean['sale_year'] = pd.DatetimeIndex(sales_clean['Tdate']).year\n",
    "sales_clean['sale_month'] = pd.DatetimeIndex(sales_clean['Tdate']).month\n",
    "sales_clean.info()"
   ]
  },
  {
   "cell_type": "code",
   "execution_count": 231,
   "metadata": {},
   "outputs": [],
   "source": [
    "cities_sales = sales_clean.loc[(sales_clean['city'].isin(['BOULDER', 'LOUISVILLE', 'LAFAYETTE', 'LONGMONT'])) & (sales_clean['sale_year'] >= 1974) & (sales_clean['sale_year'] <= 2024)].copy()\n",
    "cities_sales_median = cities_sales.groupby(['city','sale_year']).agg({'price' : ['median']})"
   ]
  },
  {
   "cell_type": "code",
   "execution_count": 259,
   "metadata": {},
   "outputs": [
    {
     "data": {
      "text/plain": [
       "Text(0.5, 1.0, 'Medain Residental Sales Price Boulder County')"
      ]
     },
     "execution_count": 259,
     "metadata": {},
     "output_type": "execute_result"
    },
    {
     "data": {
      "image/png": "[encoded data removed]",
      "text/plain": [
       "<Figure size 640x480 with 1 Axes>"
      ]
     },
     "metadata": {},
     "output_type": "display_data"
    }
   ],
   "source": [
    "cities_sales_median.unstack(level=0).plot()\n",
    "plt.legend(['Boulder', 'Lafayette', 'Longmont', 'Louisville'])\n",
    "plt.ylabel('Price ($)')\n",
    "plt.xlabel('Year')\n",
    "plt.title('Medain Residental Sales Price Boulder County')"
   ]
  },
  {
   "cell_type": "code",
   "execution_count": 258,
   "metadata": {},
   "outputs": [
    {
     "data": {
      "text/plain": [
       "Text(0.5, 1.0, 'Medain Residental Sales Price Boulder County')"
      ]
     },
     "execution_count": 258,
     "metadata": {},
     "output_type": "execute_result"
    },
    {
     "data": {
      "image/png": "[encoded data removed]",
      "text/plain": [
       "<Figure size 640x480 with 1 Axes>"
      ]
     },
     "metadata": {},
     "output_type": "display_data"
    }
   ],
   "source": [
    "cities_sales['zscore'] = cities_sales.groupby(['city','sale_year'])['price'].transform(lambda x : (x - x.mean()) / x.std())\n",
    "zscore_sales = cities_sales[(cities_sales['zscore'] <= 1) & (cities_sales['zscore'] >= -1)]\n",
    "zscore_sales_median = zscore_sales.groupby(['city', 'sale_year']).agg({'price' : 'median'})\n",
    "zscore_sales_median.unstack(level=0).plot()\n",
    "plt.legend(['Boulder', 'Lafayette', 'Longmont', 'Louisville'])\n",
    "plt.ylabel('Price ($)')\n",
    "plt.xlabel('Year')\n",
    "plt.title('Medain Residental Sales Price Boulder County')"
   ]
  }
 ],
 "metadata": {
  "kernelspec": {
   "display_name": "Python 3",
   "language": "python",
   "name": "python3"
  },
  "language_info": {
   "codemirror_mode": {
    "name": "ipython",
    "version": 3
   },
   "file_extension": ".py",
   "mimetype": "text/x-python",
   "name": "python",
   "nbconvert_exporter": "python",
   "pygments_lexer": "ipython3",
   "version": "3.13.0"
  }
 },
 "nbformat": 4,
 "nbformat_minor": 2
}
